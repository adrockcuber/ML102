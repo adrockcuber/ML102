{
 "cells": [
  {
   "cell_type": "markdown",
   "metadata": {},
   "source": [
    "# Basic Numpy\n",
    "\n",
    "Numpy는 선형대수나 수치해석, 푸리에 변환과 같은 고급 연산을 지원하는 패키지입니다.\n",
    "\n",
    "Numpy의 설치는 readme를 참고해 주세요."
   ]
  },
  {
   "cell_type": "markdown",
   "metadata": {},
   "source": [
    "Python에서는 다음 명령어를 통해 Numpy를 import할 수 있습니다.  \n"
   ]
  },
  {
   "cell_type": "code",
   "execution_count": 2,
   "metadata": {},
   "outputs": [],
   "source": [
    "import numpy as np\n"
   ]
  },
  {
   "cell_type": "markdown",
   "metadata": {},
   "source": [
    "의례적으로 numpy는 np라고 줄여 씁니다.\n"
   ]
  },
  {
   "cell_type": "markdown",
   "metadata": {},
   "source": [
    "## Array Initialization\n",
    "\n",
    "먼저 Numpy Array는 다음과 같은 방법들을 통해 만들 수 있습니다.\n"
   ]
  },
  {
   "cell_type": "code",
   "execution_count": 4,
   "metadata": {},
   "outputs": [
    {
     "name": "stdout",
     "output_type": "stream",
     "text": [
      "[1 2 3]\n"
     ]
    }
   ],
   "source": [
    "# 리스트를 넣어 만들 수 있습니다.\n",
    "a = np.array([1, 2, 3])\n",
    "print(a)"
   ]
  },
  {
   "cell_type": "code",
   "execution_count": 7,
   "metadata": {},
   "outputs": [
    {
     "name": "stdout",
     "output_type": "stream",
     "text": [
      "[1 2 3]\n"
     ]
    }
   ],
   "source": [
    "# 튜플을 넣어 만들 수도 있습니다.\n",
    "a = np.array((1, 2, 3))\n",
    "print(a)\n"
   ]
  },
  {
   "cell_type": "code",
   "execution_count": 8,
   "metadata": {},
   "outputs": [
    {
     "name": "stdout",
     "output_type": "stream",
     "text": [
      "[[1 2 3]\n",
      " [4 5 6]]\n"
     ]
    }
   ],
   "source": [
    "# 리스트의 리스트를 통해 만들 수도 있습니다.\n",
    "a = np.array([[1, 2, 3], [4, 5, 6]])\n",
    "print(a)\n"
   ]
  },
  {
   "cell_type": "code",
   "execution_count": 9,
   "metadata": {},
   "outputs": [
    {
     "name": "stdout",
     "output_type": "stream",
     "text": [
      "[[1 2 3]\n",
      " [4 5 6]]\n"
     ]
    }
   ],
   "source": [
    "# 튜플의 리스트를 넣어 만들 수도 있습니다.\n",
    "a = np.array([(1, 2, 3), (4, 5, 6)])\n",
    "print(a)\n"
   ]
  },
  {
   "cell_type": "code",
   "execution_count": 23,
   "metadata": {},
   "outputs": [
    {
     "name": "stdout",
     "output_type": "stream",
     "text": [
      "[1. 2. 3.]\n",
      "float64\n"
     ]
    }
   ],
   "source": [
    "# Array의 데이터 타입을 강제하기 위해서는 다음과 같이 사용합니다.\n",
    "a = np.array([1, 2, 3], dtype=np.float64)\n",
    "print(a)\n",
    "print(a.dtype)\n"
   ]
  },
  {
   "cell_type": "markdown",
   "metadata": {},
   "source": [
    "큰 행렬(eg. 256*256)을 만들기 위해서는 다른 방법들을 사용합니다."
   ]
  },
  {
   "cell_type": "code",
   "execution_count": 10,
   "metadata": {},
   "outputs": [
    {
     "name": "stdout",
     "output_type": "stream",
     "text": [
      "[0. 0. 0. 0. 0. 0. 0. 0. 0. 0.]\n"
     ]
    }
   ],
   "source": [
    "# np.zeros는 집어넣은 숫자만큼의 원소를 가지는 array를 생성하고, 이를 0으로 초기화합니다.\n",
    "a = np.zeros(10)\n",
    "print(a)\n"
   ]
  },
  {
   "cell_type": "code",
   "execution_count": 12,
   "metadata": {},
   "outputs": [
    {
     "name": "stdout",
     "output_type": "stream",
     "text": [
      "[[0. 0. 0. ... 0. 0. 0.]\n",
      " [0. 0. 0. ... 0. 0. 0.]\n",
      " [0. 0. 0. ... 0. 0. 0.]\n",
      " ...\n",
      " [0. 0. 0. ... 0. 0. 0.]\n",
      " [0. 0. 0. ... 0. 0. 0.]\n",
      " [0. 0. 0. ... 0. 0. 0.]]\n",
      "(256, 256)\n"
     ]
    }
   ],
   "source": [
    "# 튜플을 넣으면 M*N 영행렬을 생성합니다.\n",
    "a = np.zeros((256, 256))\n",
    "print(a)\n",
    "print(a.shape)"
   ]
  },
  {
   "cell_type": "code",
   "execution_count": 13,
   "metadata": {},
   "outputs": [
    {
     "name": "stdout",
     "output_type": "stream",
     "text": [
      "[1. 1. 1. 1. 1. 1. 1. 1. 1. 1.]\n"
     ]
    }
   ],
   "source": [
    "# np.ones는 집어넣은 숫자만큼의 원소를 가지는 array를 생성하고, 이를 1으로 초기화합니다.\n",
    "a = np.ones(10)\n",
    "print(a)\n"
   ]
  },
  {
   "cell_type": "code",
   "execution_count": 14,
   "metadata": {},
   "outputs": [
    {
     "name": "stdout",
     "output_type": "stream",
     "text": [
      "[[1. 1. 1. ... 1. 1. 1.]\n",
      " [1. 1. 1. ... 1. 1. 1.]\n",
      " [1. 1. 1. ... 1. 1. 1.]\n",
      " ...\n",
      " [1. 1. 1. ... 1. 1. 1.]\n",
      " [1. 1. 1. ... 1. 1. 1.]\n",
      " [1. 1. 1. ... 1. 1. 1.]]\n",
      "(256, 256)\n"
     ]
    }
   ],
   "source": [
    "# np.ones도 튜플을 넣으면 M*N 행렬을 생성합니다.\n",
    "a = np.ones((256, 256))\n",
    "print(a)\n",
    "print(a.shape)\n"
   ]
  },
  {
   "cell_type": "code",
   "execution_count": 24,
   "metadata": {},
   "outputs": [
    {
     "name": "stdout",
     "output_type": "stream",
     "text": [
      "[[0.5 0.5 0.5 ... 0.5 0.5 0.5]\n",
      " [0.5 0.5 0.5 ... 0.5 0.5 0.5]\n",
      " [0.5 0.5 0.5 ... 0.5 0.5 0.5]\n",
      " ...\n",
      " [0.5 0.5 0.5 ... 0.5 0.5 0.5]\n",
      " [0.5 0.5 0.5 ... 0.5 0.5 0.5]\n",
      " [0.5 0.5 0.5 ... 0.5 0.5 0.5]]\n",
      "(256, 256)\n"
     ]
    }
   ],
   "source": [
    "# np.full은 크기와 채울 값을 넣으면 원하는 크기의 array를 생성합니다.\n",
    "a = np.full((256, 256), 0.5)\n",
    "print(a)\n",
    "print(a.shape)\n"
   ]
  },
  {
   "cell_type": "code",
   "execution_count": 25,
   "metadata": {},
   "outputs": [
    {
     "name": "stdout",
     "output_type": "stream",
     "text": [
      "[[1. 0. 0. 0.]\n",
      " [0. 1. 0. 0.]\n",
      " [0. 0. 1. 0.]\n",
      " [0. 0. 0. 1.]]\n"
     ]
    }
   ],
   "source": [
    "# np.eye는 N*N의 단위행렬을 생성합니다.\n",
    "a = np.eye(4)\n",
    "print(a)\n"
   ]
  },
  {
   "cell_type": "markdown",
   "metadata": {},
   "source": [
    "다음은 ```for```문에서 주로 사용하는 일정한 interval을 가지는 array를 생성하는 방법을 다룹니다. "
   ]
  },
  {
   "cell_type": "code",
   "execution_count": 28,
   "metadata": {},
   "outputs": [
    {
     "name": "stdout",
     "output_type": "stream",
     "text": [
      "[0 1 2 3 4 5 6 7 8 9]\n",
      "[10 12 14 16 18]\n"
     ]
    }
   ],
   "source": [
    "# np.arange는 지정된 범위에서 숫자를 생성합니다.\n",
    "a = np.arange(10)\n",
    "print(a)\n",
    "\n",
    "# np.arange에서 interval을 설정해 줄 수 있습니다.\n",
    "a = np.arange(10, 20, 2)\n",
    "print(a)\n"
   ]
  },
  {
   "cell_type": "code",
   "execution_count": 29,
   "metadata": {},
   "outputs": [
    {
     "name": "stdout",
     "output_type": "stream",
     "text": [
      "[ 0.   2.5  5.   7.5 10. ]\n"
     ]
    }
   ],
   "source": [
    "# np.linspace는 시작값과 끝값을 넣으면 시작값과 끝값 사이를 등간격으로 N개로 나눈 array를 생성합니다.\n",
    "a = np.linspace(0, 10, 5)\n",
    "print(a)\n"
   ]
  },
  {
   "cell_type": "markdown",
   "metadata": {},
   "source": [
    "## Array Operations\n",
    "\n",
    "이제 Numpy Array들의 연산에 대해 알아봅니다."
   ]
  },
  {
   "cell_type": "markdown",
   "metadata": {},
   "source": [
    "### Basic Array Operation\n",
    "\n",
    "다음과 같은 Numpy Array를 가정합시다."
   ]
  },
  {
   "cell_type": "code",
   "execution_count": 16,
   "metadata": {},
   "outputs": [
    {
     "name": "stdout",
     "output_type": "stream",
     "text": [
      "[[1 2 3]\n",
      " [4 5 6]]\n"
     ]
    }
   ],
   "source": [
    "a = np.array([[1, 2, 3], [4, 5, 6]])\n",
    "print(a)\n"
   ]
  },
  {
   "cell_type": "markdown",
   "metadata": {},
   "source": [
    "먼저, ```print```를 통해 행렬을 출력할 수 있습니다.\n"
   ]
  },
  {
   "cell_type": "code",
   "execution_count": 17,
   "metadata": {},
   "outputs": [
    {
     "name": "stdout",
     "output_type": "stream",
     "text": [
      "[[1 2 3]\n",
      " [4 5 6]]\n",
      "1\n"
     ]
    }
   ],
   "source": [
    "# 행렬 전체를 출력합니다.\n",
    "print(a)\n",
    "\n",
    "# 특정 원소만 출력할 수도 있습니다.\n",
    "print(a[0, 0])\n"
   ]
  },
  {
   "cell_type": "markdown",
   "metadata": {},
   "source": [
    "행렬의 차원이나 크기를 찾기 위해서는 다음과 같은 함수를 사용할 수 있습니다.\n"
   ]
  },
  {
   "cell_type": "code",
   "execution_count": 40,
   "metadata": {},
   "outputs": [
    {
     "name": "stdout",
     "output_type": "stream",
     "text": [
      "2\n",
      "2\n",
      "(2, 2)\n",
      "[[1 2]\n",
      " [3 4]]\n",
      "4\n"
     ]
    }
   ],
   "source": [
    "# 행렬의 차원을 출력합니다.\n",
    "print(np.ndim(a))\n",
    "print(a.ndim)\n",
    "\n",
    "# 행렬의 크기를 튜플로 출력합니다.\n",
    "print(np.shape(a))\n",
    "\n",
    "# 행렬의 크기를 변환합니다.\n",
    "a = a.reshape(2, 2)\n",
    "print(a)\n",
    "\n",
    "# 행렬의 원소의 개수를 출력합니다.\n",
    "print(a.size)\n"
   ]
  },
  {
   "cell_type": "markdown",
   "metadata": {},
   "source": [
    "원소의 데이터 타입을 출력하기 위해서는 ```dtype```을 사용합니다.\n"
   ]
  },
  {
   "cell_type": "code",
   "execution_count": 20,
   "metadata": {},
   "outputs": [
    {
     "name": "stdout",
     "output_type": "stream",
     "text": [
      "int64\n"
     ]
    }
   ],
   "source": [
    "print(a.dtype)\n"
   ]
  },
  {
   "cell_type": "markdown",
   "metadata": {},
   "source": [
    "### Matrix Operations\n",
    "\n",
    "다음과 같은 두 행렬을 가정합시다."
   ]
  },
  {
   "cell_type": "code",
   "execution_count": 33,
   "metadata": {},
   "outputs": [],
   "source": [
    "a = np.array([[1, 2], [3, 4]])\n",
    "b = np.array([[9, 7], [5, 3]])\n"
   ]
  },
  {
   "cell_type": "code",
   "execution_count": 38,
   "metadata": {},
   "outputs": [
    {
     "name": "stdout",
     "output_type": "stream",
     "text": [
      "[[10  9]\n",
      " [ 8  7]]\n",
      "[[-8 -5]\n",
      " [-2  1]]\n",
      "[[ 9 14]\n",
      " [15 12]]\n",
      "[[19 13]\n",
      " [47 33]]\n",
      "[[ 1  4]\n",
      " [ 9 16]]\n",
      "[[1.         1.41421356]\n",
      " [1.73205081 2.        ]]\n",
      "[[False False]\n",
      " [False  True]]\n",
      "[[1 3]\n",
      " [2 4]]\n",
      "[[1 3]\n",
      " [2 4]]\n"
     ]
    }
   ],
   "source": [
    "# 행렬의 합을 출력합니다.\n",
    "print(a + b)\n",
    "\n",
    "# 행렬의 차를 출력합니다.\n",
    "print(a - b)\n",
    "\n",
    "# 행렬의 곱을 출력합니다.\n",
    "print(a * b)\n",
    "\n",
    "# 행렬곱을 출력합니다.\n",
    "print(a @ b)\n",
    "\n",
    "# 해당 행렬의 제곱을 출력합니다.\n",
    "print(a**2)\n",
    "\n",
    "# 해당 행렬의 제곱근을 출력합니다.\n",
    "print(np.sqrt(a))\n",
    "\n",
    "# 해당 행렬의 각 원소에 대해 참/거짓을 반환합니다.\n",
    "print(b < 4)\n",
    "\n",
    "# np.transpose는 행렬의 행과 열을 바꿔줍니다.\n",
    "print(np.transpose(a))\n",
    "print(a.T)\n"
   ]
  },
  {
   "cell_type": "markdown",
   "metadata": {},
   "source": [
    "### Array Statistics\n",
    "\n",
    "다음과 같은 행렬을 가정합니다."
   ]
  },
  {
   "cell_type": "code",
   "execution_count": 35,
   "metadata": {},
   "outputs": [],
   "source": [
    "a = np.array([[1, 2], [3, 4]])"
   ]
  },
  {
   "cell_type": "code",
   "execution_count": 37,
   "metadata": {},
   "outputs": [
    {
     "name": "stdout",
     "output_type": "stream",
     "text": [
      "10\n",
      "2.5\n",
      "1.118033988749895\n",
      "1.25\n",
      "1\n",
      "4\n",
      "[4 6]\n",
      "[3 7]\n",
      "10\n",
      "3\n",
      "0\n",
      "[[0 1]\n",
      " [0 1]]\n",
      "[[1 2]\n",
      " [3 4]]\n",
      "[[3 4]\n",
      " [1 2]]\n",
      "[[2 1]\n",
      " [4 3]]\n"
     ]
    }
   ],
   "source": [
    "# 행렬의 모든 원소의 합을 출력합니다.\n",
    "print(np.sum(a))\n",
    "\n",
    "# 행렬의 모든 원소의 평균을 출력합니다.\n",
    "print(np.mean(a))\n",
    "\n",
    "# 행렬의 모든 원소의 표준편차를 출력합니다.\n",
    "print(np.std(a))\n",
    "\n",
    "# 행렬의 모든 원소의 분산을 출력합니다.\n",
    "print(np.var(a))\n",
    "\n",
    "# 행렬의 모든 원소의 최솟값을 출력합니다.\n",
    "print(np.min(a))\n",
    "\n",
    "# 행렬의 모든 원소의 최댓값을 출력합니다.\n",
    "print(np.max(a))\n",
    "\n",
    "# axis=0은 행렬의 행을 의미합니다.\n",
    "# axis=1은 행렬의 열을 의미합니다.\n",
    "# axis=None은 행렬의 원소들을 의미합니다.\n",
    "print(np.sum(a, axis=0))\n",
    "print(np.sum(a, axis=1))\n",
    "print(np.sum(a, axis=None))\n",
    "\n",
    "# np.argmax는 최댓값의 인덱스를 출력합니다.\n",
    "print(np.argmax(a))\n",
    "\n",
    "# np.argmin는 최솟값의 인덱스를 출력합니다.\n",
    "print(np.argmin(a))\n",
    "\n",
    "# np.argsort는 원소의 인덱스를 정렬합니다.\n",
    "print(np.argsort(a))\n",
    "\n",
    "# np.sort는 원소들을 정렬합니다.\n",
    "print(np.sort(a))\n",
    "\n",
    "# np.flipud는 행렬의 열을 역순으로 출력합니다.\n",
    "print(np.flipud(a))\n",
    "\n",
    "# np.fliplr는 행렬의 행을 역순으로 출력합니다.\n",
    "print(np.fliplr(a))\n"
   ]
  }
 ],
 "metadata": {
  "kernelspec": {
   "display_name": "Python 3.9.10 64-bit ('3.9.10')",
   "language": "python",
   "name": "python3"
  },
  "language_info": {
   "codemirror_mode": {
    "name": "ipython",
    "version": 3
   },
   "file_extension": ".py",
   "mimetype": "text/x-python",
   "name": "python",
   "nbconvert_exporter": "python",
   "pygments_lexer": "ipython3",
   "version": "3.9.10"
  },
  "orig_nbformat": 4,
  "vscode": {
   "interpreter": {
    "hash": "efaaffe9068f6e7dc4e7db139e9a8ff91e5a2b37fb0a8de094ded86cab042f17"
   }
  }
 },
 "nbformat": 4,
 "nbformat_minor": 2
}
